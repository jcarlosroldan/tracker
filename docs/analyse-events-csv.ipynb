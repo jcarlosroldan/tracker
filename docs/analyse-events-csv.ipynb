{
 "cells": [
  {
   "cell_type": "code",
   "execution_count": 1,
   "metadata": {},
   "outputs": [
    {
     "name": "stdout",
     "output_type": "stream",
     "text": [
      "Last modified on 2024-03-08 01:58:52\n",
      "Loaded 3850585 events\n"
     ]
    }
   ],
   "source": [
    "from datetime import datetime\n",
    "from os.path import getmtime\n",
    "\n",
    "PATH_EVENTS = '../data/events.csv'\n",
    "\n",
    "print(f'Last modified on {datetime.fromtimestamp(getmtime(PATH_EVENTS)).strftime(\"%Y-%m-%d %H:%M:%S\")}')\n",
    "\n",
    "with open(PATH_EVENTS, 'r', encoding='utf-8') as fp:\n",
    "\tdata = [event.split(',') for event in fp.read().strip().split('\\n')]\n",
    "\n",
    "print(f'Loaded {len(data)} events')"
   ]
  },
  {
   "cell_type": "code",
   "execution_count": 2,
   "metadata": {},
   "outputs": [
    {
     "name": "stdout",
     "output_type": "stream",
     "text": [
      "Last modified on 2023-10-13 00:21:46\n",
      "Loaded 29636 ids\n"
     ]
    }
   ],
   "source": [
    "PATH_IDS = '../data/ids.txt'\n",
    "\n",
    "print(f'Last modified on {datetime.fromtimestamp(getmtime(PATH_IDS)).strftime(\"%Y-%m-%d %H:%M:%S\")}')\n",
    "\n",
    "with open(PATH_IDS, 'r', encoding='utf-8') as fp:\n",
    "\tids = fp.read().strip().split('\\n')\n",
    "\n",
    "print(f'Loaded {len(ids)} ids')"
   ]
  },
  {
   "cell_type": "code",
   "execution_count": 5,
   "metadata": {},
   "outputs": [
    {
     "name": "stdout",
     "output_type": "stream",
     "text": [
      "{'kind': 'begin', 'when': 0.0}\n",
      "{'kind': 'window', 'when': 0.245, 'app': '\\\\Device\\\\HarddiskVolume4\\\\Windows\\\\SystemApps\\\\Microsoft.LockApp_cw5n1h2txyewy\\\\LockApp.exe', 'activity': 'Windows Default Lock Screen', 'desktop': '0'}\n",
      "{'kind': 'click', 'when': 38.25, 'x_released': -764, 'y_released': 1014, 'x_pressed': -764, 'y_pressed': 1014, 'button': 1, 'seconds': 0.02951169}\n",
      "{'kind': 'keyboard', 'when': 41.797, 'key': 'b', 'seconds': 0.08000088}\n",
      "{'kind': 'scroll', 'when': 70.18, 'x_start': 3227, 'y_start': 295, 'direction': 'U', 'amount': 7.0, 'seconds': 2.24640489}\n",
      "{'kind': 'idle', 'when': 252.596, 'enabled': True}\n",
      "{'begin': 100, 'window': 190866, 'click': 773242, 'keyboard': 2760378, 'scroll': 106169, 'idle': 19830}\n"
     ]
    }
   ],
   "source": [
    "KINDS = {\n",
    "\t'B': {'name': 'begin', 'fields': {}},\n",
    "\t'W': {'name': 'window', 'fields': {'app': 'id', 'activity': 'id', 'desktop': 'string'}},\n",
    "\t'I': {'name': 'idle', 'fields': {'enabled': 'bool'}},\n",
    "\t'K': {'name': 'keyboard', 'fields': {'key': 'char', 'elapsed': 'float'}},\n",
    "\t'C': {'name': 'click', 'fields': {'x_released': 'int', 'y_released': 'int', 'x_pressed': 'int', 'y_pressed': 'int', 'button': 'int', 'elapsed': 'float'}},\n",
    "\t'S': {'name': 'scroll', 'fields': {'x_start': 'int', 'y_start': 'int', 'direction': 'string', 'lines': 'float', 'elapsed': 'float'}}\n",
    "}\n",
    "\n",
    "def parse_event(event):\n",
    "\tres = {'kind': KINDS[event[0]]['name'], 'when': float(event[1])}\n",
    "\tassert len(event) == 2 + len(KINDS[event[0]]['fields']), f'Invalid event: {event}'\n",
    "\tfor value, kind in zip(event[2:], KINDS[event[0]]['fields']):\n",
    "\t\tif KINDS[event[0]]['fields'][kind] == 'string':\n",
    "\t\t\tres[kind] = value\n",
    "\t\telif KINDS[event[0]]['fields'][kind] == 'int':\n",
    "\t\t\tres[kind] = int(value)\n",
    "\t\telif KINDS[event[0]]['fields'][kind] == 'float':\n",
    "\t\t\tres[kind] = float(value)\n",
    "\t\telif KINDS[event[0]]['fields'][kind] == 'bool':\n",
    "\t\t\tres[kind] = bool(int(value))\n",
    "\t\telif KINDS[event[0]]['fields'][kind] == 'char':\n",
    "\t\t\tres[kind] = chr(int(value))\n",
    "\t\telif KINDS[event[0]]['fields'][kind] == 'id':\n",
    "\t\t\tres[kind] = ids[int(value)]\n",
    "\treturn res\n",
    "\n",
    "events = [parse_event(event) for event in data]\n",
    "\n",
    "seen = {}\n",
    "for event in events:\n",
    "\tif event['kind'] in seen:\n",
    "\t\tseen[event['kind']] += 1\n",
    "\telse:\n",
    "\t\tseen[event['kind']] = 1\n",
    "\t\tprint(event)\n",
    "\t\n",
    "print(seen)"
   ]
  },
  {
   "cell_type": "code",
   "execution_count": 27,
   "metadata": {},
   "outputs": [
    {
     "name": "stdout",
     "output_type": "stream",
     "text": [
      "Top 50 apps by time spent:\n",
      " 1430h\t  68.07 %\t\n",
      "  436h\t  20.79 %\tchrome\n",
      "   84h\t   4.01 %\tLockApp\n",
      "   27h\t   1.33 %\tAround\n",
      "   21h\t   1.04 %\thyper\n",
      "   18h\t   0.89 %\tTelegram\n",
      "   15h\t   0.76 %\texplorer\n",
      "   15h\t   0.73 %\tOUTLOOK\n",
      "   12h\t   0.60 %\tfactorio\n",
      "    9h\t   0.46 %\tsublime_text\n",
      "    8h\t   0.42 %\tGameMaker\n",
      "    8h\t   0.41 %\tCode - Insiders\n",
      "    8h\t   0.40 %\tWINWORD\n",
      "    8h\t   0.38 %\tphotoshop\n",
      "    7h\t   0.35 %\tEXCEL\n",
      "    6h\t   0.31 %\tPOWERPNT\n",
      "    6h\t   0.30 %\tPUTTY\n",
      "    5h\t   0.28 %\tSpotify\n",
      "    5h\t   0.25 %\tAbleton Live 11 Suite\n",
      "    5h\t   0.25 %\topenscad\n",
      "    3h\t   0.15 %\tblender\n",
      "    2h\t   0.14 %\tCura\n",
      "    2h\t   0.13 %\tmspaint\n",
      "    1h\t   0.09 %\tRunner\n",
      "    1h\t   0.09 %\tfirefox\n",
      "    1h\t   0.08 %\tSearchApp\n",
      "    1h\t   0.08 %\tAseprite\n",
      "    1h\t   0.07 %\tShellExperienceHost\n",
      "    1h\t   0.07 %\tSumatraPDF\n",
      "    1h\t   0.06 %\tRunner\n",
      "    1h\t   0.05 %\tillustrator\n",
      "    1h\t   0.05 %\tWinSCP\n",
      "    1h\t   0.05 %\tScreenClippingHost\n",
      "    1h\t   0.05 %\tAcroRd32\n",
      "    1h\t   0.05 %\tZoom\n",
      "    0h\t   0.05 %\tqbittorrent\n",
      "    0h\t   0.05 %\tHotDiggity\n",
      "    0h\t   0.04 %\tnotepad\n",
      "    0h\t   0.04 %\tOvercooked2\n",
      "    0h\t   0.03 %\t7zFM\n",
      "    0h\t   0.03 %\tsteam\n",
      "    0h\t   0.03 %\tGuitarPro7\n",
      "    0h\t   0.03 %\tiTunes\n",
      "    0h\t   0.03 %\tcmd\n",
      "    0h\t   0.03 %\tvlc\n",
      "    0h\t   0.02 %\tRunner\n",
      "    0h\t   0.02 %\tLightning\n",
      "    0h\t   0.01 %\tHotDiggity\n",
      "    0h\t   0.01 %\tSkype\n",
      "    0h\t   0.01 %\tpong_waves_vr\n"
     ]
    }
   ],
   "source": [
    "from collections import Counter\n",
    "\n",
    "def event_times(kind, field):\n",
    "\tres = {}\n",
    "\tfor event in events:\n",
    "\t\tif event['kind'] == 'begin':\n",
    "\t\t\tcurrent_value, current_start = None, None\n",
    "\t\telif event['kind'] == kind:\n",
    "\t\t\tif event[field] not in res: res[event[field]] = 0\n",
    "\t\t\tif current_value != event[field]:\n",
    "\t\t\t\tif current_value is not None:\n",
    "\t\t\t\t\tres[current_value] += event['when'] - current_start\n",
    "\t\t\t\tcurrent_value, current_start = event[field], event['when']\n",
    "\treturn res\n",
    "\n",
    "top_apps = event_times('window', 'app')\n",
    "total_time = sum(top_apps.values())\n",
    "\n",
    "print('Top 50 apps by time spent:')\n",
    "for name, time in Counter(top_apps).most_common(50):\n",
    "\tshare = time / total_time\n",
    "\tprint('% 5dh\\t% 7.2f %%\\t%s' % (time / 3600, 100 * share, name.rsplit('.', 1)[0].rsplit('/', 1)[-1].rsplit('\\\\', 1)[-1]))"
   ]
  },
  {
   "cell_type": "code",
   "execution_count": 28,
   "metadata": {},
   "outputs": [
    {
     "name": "stdout",
     "output_type": "stream",
     "text": [
      "Top 50 activities by time spent:\n",
      " 1264h\t  60.13 %\t\n",
      "   84h\t   4.01 %\tWindows Default Lock Screen\n",
      "   84h\t   4.00 %\tChange the date and time\n",
      "   26h\t   1.24 %\tAround\n",
      "   21h\t   1.04 %\tModa primaveral serena: Urban Classics | ABOUT YOU - Google Chrome\n",
      "   12h\t   0.61 %\trafi.wadan - Stargazr Chat - Google Chrome\n",
      "   12h\t   0.61 %\tHyperRogue 12.1o\n",
      "   12h\t   0.60 %\tFactorio 1.1.80\n",
      "   10h\t   0.50 %\t● main.ipynb - Stargazr (Workspace) - Visual Studio Code [Administrator]\n",
      "    7h\t   0.37 %\tHyperRogue 12.1p\n",
      "    5h\t   0.28 %\tPacking list & planning - Carlos - Google Docs - Google Chrome\n",
      "    5h\t   0.27 %\tNew Tab - Google Chrome\n",
      "    5h\t   0.24 %\tInbox - jc.roldan@stargazr.ai - Outlook\n",
      "    4h\t   0.23 %\t● 2 Computation.ipynb - Visual Studio Live Share (Workspace) - Visual Studio Code [Administrator]\n",
      "    4h\t   0.22 %\tChatGPT - Google Chrome\n",
      "    4h\t   0.21 %\tHow does the computational engine works? - Google Chrome\n",
      "    4h\t   0.20 %\tBook1 - Excel\n",
      "    4h\t   0.20 %\tDev - Stargazr Chat - Google Chrome\n",
      "    4h\t   0.20 %\tUntitled* - Ableton Live 11 Suite\n",
      "    3h\t   0.19 %\tmanuel.barea - Stargazr Chat - Google Chrome\n",
      "    3h\t   0.18 %\tHome • Stargazr - Google Chrome\n",
      "    3h\t   0.18 %\tSET - GameMaker\n",
      "    3h\t   0.17 %\tCreated with GameMaker\n",
      "    3h\t   0.16 %\tpablo.huet - Stargazr Chat - Google Chrome\n",
      "    3h\t   0.16 %\t● main.ipynb - Visual Studio Live Share (Workspace) - Visual Studio Code [Administrator]\n",
      "    3h\t   0.15 %\tsource.scad* - OpenSCAD\n",
      "    3h\t   0.15 %\tjcarlosroldan.com - Google Chrome\n",
      "    3h\t   0.14 %\tDocument1 - Word\n",
      "    2h\t   0.14 %\t● Dev - Asana - Google Chrome\n",
      "    2h\t   0.14 %\tThe Best Free Plugins for Ableton Live – Abletunes Blog | Music Production in Ableton Live - Google Chrome\n",
      "    2h\t   0.14 %\tFeed | LinkedIn - Google Chrome\n",
      "    2h\t   0.13 %\tUntitled - Paint\n",
      "    2h\t   0.13 %\tWhatsApp - Google Chrome\n",
      "    2h\t   0.13 %\tGeneral - Stargazr Chat - Google Chrome\n",
      "    2h\t   0.12 %\t🌴👾🌴 Stargazr tech vacations - Google Sheets - Google Chrome\n",
      "    2h\t   0.12 %\tProgram Manager\n",
      "    2h\t   0.12 %\tUnsaved YTD Value Driver • Stargazr - Google Chrome\n",
      "    2h\t   0.12 %\tBandeja de entrada - juancroldan@outlook.es - Outlook\n",
      "    2h\t   0.11 %\tPresentation1 - PowerPoint\n",
      "    2h\t   0.11 %\t2vdiagram.gif (431×340) - Google Chrome\n",
      "    2h\t   0.11 %\tStargazr Clocking - Google Chrome\n",
      "    2h\t   0.11 %\tSpotify Premium\n",
      "    2h\t   0.11 %\tSET - GameMaker*\n",
      "    2h\t   0.11 %\tHow does the computational engine work? - Google Chrome\n",
      "    2h\t   0.10 %\tBlender\n",
      "    2h\t   0.10 %\t▶ New Project - NoiseCraft - Google Chrome\n",
      "    2h\t   0.10 %\tDriverTable.vue - Stargazr (Workspace) - Visual Studio Code [Administrator]\n",
      "    2h\t   0.10 %\tNai\n",
      "    2h\t   0.10 %\tResumen: Juego Quanto blog - Google Chrome\n",
      "    2h\t   0.10 %\tLayo initial design system reply - Google Chrome\n"
     ]
    }
   ],
   "source": [
    "top_activities = event_times('window', 'activity')\n",
    "total_time = sum(top_activities.values())\n",
    "print('Top 50 activities by time spent:')\n",
    "for name, time in Counter(top_activities).most_common(50):\n",
    "\tshare = time / total_time\n",
    "\tprint('% 5dh\\t% 7.2f %%\\t%s' % (time / 3600, 100 * share, name))"
   ]
  },
  {
   "cell_type": "code",
   "execution_count": 29,
   "metadata": {},
   "outputs": [
    {
     "name": "stdout",
     "output_type": "stream",
     "text": [
      "Top 50 Chrome tabs by time spent:\n",
      "   21h\t   5.01 %\tModa primaveral serena: Urban Classics | ABOUT YOU\n",
      "   12h\t   2.95 %\trafi.wadan - Stargazr Chat\n",
      "    5h\t   1.32 %\tPacking list & planning - Carlos - Google Docs\n",
      "    5h\t   1.30 %\tNew Tab\n",
      "    4h\t   1.06 %\tChatGPT\n",
      "    4h\t   1.01 %\tHow does the computational engine works?\n",
      "    4h\t   0.98 %\tDev - Stargazr Chat\n",
      "    3h\t   0.91 %\tmanuel.barea - Stargazr Chat\n",
      "    3h\t   0.88 %\tHome • Stargazr\n",
      "    3h\t   0.79 %\tpablo.huet - Stargazr Chat\n",
      "    3h\t   0.73 %\tjcarlosroldan.com\n",
      "    2h\t   0.68 %\t● Dev - Asana\n",
      "    2h\t   0.68 %\tThe Best Free Plugins for Ableton Live – Abletunes Blog | Music Production in Ableton Live\n",
      "    2h\t   0.65 %\tFeed | LinkedIn\n",
      "    2h\t   0.61 %\tWhatsApp\n",
      "    2h\t   0.60 %\tGeneral - Stargazr Chat\n",
      "    2h\t   0.60 %\t🌴👾🌴 Stargazr tech vacations - Google Sheets\n",
      "    2h\t   0.59 %\tUnsaved YTD Value Driver • Stargazr\n",
      "    2h\t   0.54 %\t2vdiagram.gif (431×340)\n",
      "    2h\t   0.54 %\tStargazr Clocking\n",
      "    2h\t   0.52 %\tHow does the computational engine work?\n",
      "    2h\t   0.50 %\t▶ New Project - NoiseCraft\n",
      "    2h\t   0.48 %\tResumen: Juego Quanto blog\n",
      "    2h\t   0.48 %\tLayo initial design system reply\n",
      "    2h\t   0.47 %\tThreads - Stargazr Chat\n",
      "    2h\t   0.46 %\tIntegrations by pabletos · Pull Request #2 · stargazr-dev/app\n",
      "    1h\t   0.45 %\tmahdi.austian - Stargazr Chat\n",
      "    1h\t   0.44 %\tManage positions • Stargazr\n",
      "    1h\t   0.43 %\tSettings • Stargazr\n",
      "    1h\t   0.42 %\tDev Product - Stargazr Chat\n",
      "    1h\t   0.40 %\tole.delgado - Stargazr Chat\n",
      "    1h\t   0.40 %\tInstagram\n",
      "    1h\t   0.39 %\tDerinkuyu\n",
      "    1h\t   0.38 %\tnaman.gupta - Stargazr Chat\n",
      "    1h\t   0.37 %\tdominik.batsching - Stargazr Chat\n",
      "    1h\t   0.35 %\tWroove • Project & issue management with AI\n",
      "    1h\t   0.35 %\tDesign system – Figma\n",
      "    1h\t   0.35 %\trina.ademi - Stargazr Chat\n",
      "    1h\t   0.34 %\tNew patch • modulime\n",
      "    1h\t   0.33 %\tPortal de Subastas Electrónicas\n",
      "    1h\t   0.33 %\tNew chat\n",
      "    1h\t   0.29 %\tWho is Watching • HBO Max\n",
      "    1h\t   0.29 %\tYear 2023 • Stargazr\n",
      "    1h\t   0.29 %\tMeet - kee-zbge-xcn\n",
      "    1h\t   0.27 %\tTerm.testautoform • Stargazr\n",
      "    1h\t   0.27 %\thttps://chat.openai.com\n",
      "    1h\t   0.26 %\tTerm.testdrivertable • Stargazr\n",
      "    1h\t   0.23 %\t▶ Pages - Stargazr Final v4 - Carlos Copy\n",
      "    0h\t   0.23 %\tEspaña\n",
      "    0h\t   0.22 %\t(1) rafi.wadan - Stargazr Chat\n"
     ]
    }
   ],
   "source": [
    "CHROME_SUFFIX = ' - Google Chrome'\n",
    "top_chrome = {k[:-len(CHROME_SUFFIX)]: v for k, v in top_activities.items() if k.endswith(CHROME_SUFFIX)}\n",
    "total_time = sum(top_chrome.values())\n",
    "print('Top 50 Chrome tabs by time spent:')\n",
    "for name, time in Counter(top_chrome).most_common(50):\n",
    "\tshare = time / total_time\n",
    "\tprint('% 5dh\\t% 7.2f %%\\t%s' % (time / 3600, 100 * share, name))"
   ]
  },
  {
   "cell_type": "code",
   "execution_count": 56,
   "metadata": {},
   "outputs": [],
   "source": [
    "text = ''\n",
    "ALLOW = 'abcdefghijklmnopqrstuvwxyzABCDEFGHIJKLMNOPQRSTUVWXYZ0123456789.-,;:!?()[]{}<>/\\\\\\'\"  '\n",
    "for event in events:\n",
    "\tif event['kind'] == 'keyboard':\n",
    "\t\tif event['key'] in ALLOW:\n",
    "\t\t\ttext += event['key']\n",
    "\t\t# backspace:\n",
    "\t\telif event['key'] == '\\x08':\n",
    "\t\t\ttext = text[:-1]\n",
    "\t\telse:\n",
    "\t\t\ttext += ' '"
   ]
  },
  {
   "cell_type": "code",
   "execution_count": 77,
   "metadata": {},
   "outputs": [
    {
     "name": "stdout",
     "output_type": "stream",
     "text": [
      "t  pp-level to make it less exaggerated i n the footer, the twitter symbol is lower than the rest  i n s olution, the ta\n",
      "y nested, like in typical big platforms such as facebook or twitter;  you inspect a single user name there and you'll se\n",
      "(((   v as a ayudarme a crear textos de resumen para el las twitter cards de mi blog .  e voy a ir pasando post del blog\n",
      "                                     texto para poner en la twitter card de este post de mi blog personal, tancomo en i.\n"
     ]
    }
   ],
   "source": [
    "remaining_text = text.lower()\n",
    "SEARCH = 'twitter'\n",
    "while SEARCH in remaining_text:\n",
    "\ti = remaining_text.index(SEARCH)\n",
    "\tprint(remaining_text[i - 60:i + 60])\n",
    "\tremaining_text = remaining_text[i + len(SEARCH):]"
   ]
  }
 ],
 "metadata": {
  "kernelspec": {
   "display_name": "Python 3",
   "language": "python",
   "name": "python3"
  },
  "language_info": {
   "codemirror_mode": {
    "name": "ipython",
    "version": 3
   },
   "file_extension": ".py",
   "mimetype": "text/x-python",
   "name": "python",
   "nbconvert_exporter": "python",
   "pygments_lexer": "ipython3",
   "version": "3.9.6"
  }
 },
 "nbformat": 4,
 "nbformat_minor": 2
}
